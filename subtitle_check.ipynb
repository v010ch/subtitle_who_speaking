{
 "cells": [
  {
   "cell_type": "code",
   "execution_count": null,
   "id": "f76d36cc-3363-4255-8d38-737f8b9455ff",
   "metadata": {},
   "outputs": [],
   "source": []
  },
  {
   "cell_type": "code",
   "execution_count": 1,
   "id": "8a2f19cf-5136-4115-8a32-f12e82408899",
   "metadata": {},
   "outputs": [],
   "source": [
    "import datetime\n",
    "from matplotlib import pyplot as plt\n",
    "import os\n",
    "\n",
    "import cv2\n",
    "import librosa"
   ]
  },
  {
   "cell_type": "code",
   "execution_count": null,
   "id": "acb4df82-b23c-416d-8dc7-fbb3ba2c9161",
   "metadata": {},
   "outputs": [],
   "source": []
  },
  {
   "cell_type": "code",
   "execution_count": 2,
   "id": "64f45309-a96b-410c-a690-816cf2121f36",
   "metadata": {},
   "outputs": [],
   "source": [
    "season_max = 27"
   ]
  },
  {
   "cell_type": "code",
   "execution_count": 3,
   "id": "c161090e-217c-44e9-adae-1a0151b136ae",
   "metadata": {},
   "outputs": [],
   "source": [
    "DATA_PATH = os.path.join('.', 'data')\n",
    "VIDEO_PATH = os.path.join(DATA_PATH, 'video')\n",
    "AUDIO_PATH = os.path.join(DATA_PATH, 'audio')\n",
    "SUB_V1_PATH = os.path.join(DATA_PATH, 'sub_v1')\n",
    "SUB_V2_PATH = os.path.join(DATA_PATH, 'sub_v2')"
   ]
  },
  {
   "cell_type": "code",
   "execution_count": null,
   "id": "930f1868-7a16-4cfd-a058-74c990c40de3",
   "metadata": {},
   "outputs": [],
   "source": []
  },
  {
   "cell_type": "code",
   "execution_count": null,
   "id": "fdf036c3-34c0-4d9b-aefd-3eea87801129",
   "metadata": {},
   "outputs": [],
   "source": []
  },
  {
   "cell_type": "code",
   "execution_count": null,
   "id": "a5458838-db0e-4245-9c9f-8744ff92ad4d",
   "metadata": {},
   "outputs": [],
   "source": []
  },
  {
   "cell_type": "code",
   "execution_count": 4,
   "id": "c960f83e-0211-45a3-a638-60ef046ad3da",
   "metadata": {},
   "outputs": [],
   "source": [
    "def create_spectrogram(path_to_vid: str, path_to_save: str) -> bool:\n",
    "    '''\n",
    "    Создание спектрограммы из звуковой дорожки видеофайла.\n",
    "    args\n",
    "        path_to_vid: str - путь к видеофайлу\n",
    "        path_to_saveL str - путь для сохранения спектрограммы\n",
    "    return\n",
    "        bool - результат преобразования и сохранения\n",
    "    '''\n",
    "    return False\n",
    "\n",
    "\n",
    "def determine_by_video(fd, time_start, time_end) -> str:\n",
    "    '''\n",
    "    Определение говорящего во видеоряду\n",
    "    args\n",
    "        fd: _io.TextIOWrapper - файловый дескриптор видеофайла\n",
    "        time_start - начало временного отрезка сутбитра\n",
    "        time_end - окончание временного отрезка сутбитра\n",
    "    return\n",
    "        str - имя говорящего / unknown\n",
    "    '''\n",
    "    return 'unk'\n",
    "\n",
    "\n",
    "def determine_by_audio(fd, time_start, time_end) -> str:\n",
    "    '''\n",
    "    Определение говорящего во звуку\n",
    "    args\n",
    "        fd: _io.TextIOWrapper - файловый дескриптор аудиофайла\n",
    "        time_start - начало временного отрезка сутбитра\n",
    "        time_end - окончание временного отрезка сутбитра\n",
    "    return\n",
    "        str - имя говорящего / unknown\n",
    "    '''\n",
    "    return 'unk'\n"
   ]
  },
  {
   "cell_type": "code",
   "execution_count": 5,
   "id": "b6c273bb-5daf-46dd-a6f0-90483db84aee",
   "metadata": {},
   "outputs": [
    {
     "name": "stdout",
     "output_type": "stream",
     "text": [
      "Absent spectrogram for .\\data\\audio\\season01\\S01E01.Simpsons_Roasting_on_an_Open_Fire.png\n",
      "Creating...\n",
      "Error to create spectrogram. Exiting\n"
     ]
    }
   ],
   "source": [
    "for season in range(1, season_max + 1):\n",
    "    cur_vid_path = os.path.join(VIDEO_PATH, f'season{season:02}')\n",
    "    cur_sub_path = os.path.join(SUB_V1_PATH, f'season{season:02}')\n",
    "    cur_spec_path = os.path.join(AUDIO_PATH, f'season{season:02}')\n",
    "    vidnames = os.listdir(cur_vid_path)\n",
    "    subttls = os.listdir(cur_sub_path)\n",
    "\n",
    "    if len(vidnames) != len(subttls):\n",
    "        print(f'missed data at season {season}')\n",
    "\n",
    "    for idx in range(len(vidnames)):\n",
    "        vid_fname = vidnames[idx]\n",
    "        spectre_fname = '.'.join(vid_fname.split('.')[:-1]) + '.png'\n",
    "        check_path = os.path.join(os.path.join(cur_spec_path,\n",
    "                                               spectre_fname\n",
    "                                              ))\n",
    "\n",
    "        if not os.path.exists(check_path):\n",
    "            # create and save spectre\n",
    "            print(f'Absent spectrogram for {check_path}')\n",
    "            print('Creating...')\n",
    "            tmp_vid_path = os.path.join(cur_vid_path, vid_fname)\n",
    "            tmp_spec_path = os.path.join(cur_spec_path, spectre_fname)\n",
    "            #print(tmp_vid_path)\n",
    "            #print(tmp_spec_path)\n",
    "            \n",
    "            state = create_spectrogram(tmp_vid_path, tmp_spec_path)\n",
    "            if not state:\n",
    "                print('Error to create spectrogram. Exiting')\n",
    "                break\n",
    "            print('Done')\n",
    "        break\n",
    "\n",
    "    break"
   ]
  },
  {
   "cell_type": "code",
   "execution_count": null,
   "id": "b5929518-1e19-4cee-973c-5ff992a9ea7b",
   "metadata": {},
   "outputs": [],
   "source": []
  },
  {
   "cell_type": "code",
   "execution_count": null,
   "id": "49e479c0-c3fe-4584-bb3a-b51d76b1f96b",
   "metadata": {},
   "outputs": [],
   "source": []
  },
  {
   "cell_type": "code",
   "execution_count": null,
   "id": "a47f4339-71bc-4d97-b04b-834d62b5d439",
   "metadata": {},
   "outputs": [],
   "source": []
  },
  {
   "cell_type": "code",
   "execution_count": null,
   "id": "9f6c0469-6bfa-4865-8099-cb6abd67dd3b",
   "metadata": {},
   "outputs": [],
   "source": []
  },
  {
   "cell_type": "code",
   "execution_count": null,
   "id": "b20bc6e5-5899-4279-a2a1-80e19316f253",
   "metadata": {},
   "outputs": [],
   "source": []
  },
  {
   "cell_type": "code",
   "execution_count": null,
   "id": "c495eb64-ee37-43a7-bbfe-89a548f150cb",
   "metadata": {},
   "outputs": [],
   "source": []
  },
  {
   "cell_type": "code",
   "execution_count": null,
   "id": "dcd3362a-7d1a-444c-b141-9c21546e0fb4",
   "metadata": {},
   "outputs": [],
   "source": []
  },
  {
   "cell_type": "code",
   "execution_count": 13,
   "id": "6b19a73c-5c3b-4552-99ca-86412b42cac5",
   "metadata": {},
   "outputs": [],
   "source": [
    "for name in [subttls[0]]:\n",
    "    with open(os.path.join(SUB_V1_PATH, f'season{season:02}', name)) as fd:\n",
    "        #data = read(fd)\n",
    "        data = fd.read()\n",
    "        data = data.split('\\n')\n",
    "        print(type(fd))\n",
    "\n",
    "new_subtitle = []\n",
    "for idx, el in enumerate(data):\n",
    "    if el.startswith('00:') or el.startswith('01:'):\n",
    "        new_subtitle.append(idx)"
   ]
  },
  {
   "cell_type": "code",
   "execution_count": null,
   "id": "89bb7b8f-59bf-4f0d-bb26-bc06155f2dbf",
   "metadata": {},
   "outputs": [],
   "source": []
  },
  {
   "cell_type": "code",
   "execution_count": 42,
   "id": "4af214d3-2796-476b-aa34-fb5e74daf958",
   "metadata": {},
   "outputs": [],
   "source": [
    "diff = []\n",
    "for idx in new_subtitle:\n",
    "    start, end = data[idx].split(' --> ')\n",
    "    #print()\n",
    "    start = datetime.datetime.strptime(start, '%H:%M:%S,%f')\n",
    "    end = datetime.datetime.strptime(end, '%H:%M:%S,%f')\n",
    "    diff.append((end - start).total_seconds())"
   ]
  },
  {
   "cell_type": "code",
   "execution_count": 18,
   "id": "b35488f5-cc39-444a-9289-e791f9d52d9b",
   "metadata": {},
   "outputs": [],
   "source": []
  },
  {
   "cell_type": "code",
   "execution_count": 54,
   "id": "f3d5a7c1-caba-4dbd-9f18-31b0190d2a2a",
   "metadata": {},
   "outputs": [
    {
     "data": {
      "text/plain": [
       "(array([ 26.,  52., 148.,  99.,  75.,  48.,  25.,   5.,   1.,   7.]),\n",
       " array([1.04 , 1.428, 1.816, 2.204, 2.592, 2.98 , 3.368, 3.756, 4.144,\n",
       "        4.532, 4.92 ]),\n",
       " <BarContainer object of 10 artists>)"
      ]
     },
     "execution_count": 54,
     "metadata": {},
     "output_type": "execute_result"
    },
    {
     "data": {
      "image/png": "[encoded data removed]",
      "text/plain": [
       "<Figure size 640x480 with 1 Axes>"
      ]
     },
     "metadata": {},
     "output_type": "display_data"
    }
   ],
   "source": [
    "plt.hist(diff)"
   ]
  },
  {
   "cell_type": "code",
   "execution_count": null,
   "id": "d2815413-0a3a-4347-b574-df8b3456f6a4",
   "metadata": {},
   "outputs": [],
   "source": []
  },
  {
   "cell_type": "code",
   "execution_count": null,
   "id": "53608142-88b2-4e71-8920-96257cc3fda8",
   "metadata": {},
   "outputs": [],
   "source": []
  },
  {
   "cell_type": "code",
   "execution_count": null,
   "id": "160b1c82-219c-44e1-9098-46e50dc7be4c",
   "metadata": {},
   "outputs": [],
   "source": []
  },
  {
   "cell_type": "code",
   "execution_count": null,
   "id": "92d48fd6-715a-478e-8404-f6911d9607d7",
   "metadata": {},
   "outputs": [],
   "source": []
  }
 ],
 "metadata": {
  "kernelspec": {
   "display_name": "subtitle_ws",
   "language": "python",
   "name": "subtitle_ws"
  },
  "language_info": {
   "codemirror_mode": {
    "name": "ipython",
    "version": 3
   },
   "file_extension": ".py",
   "mimetype": "text/x-python",
   "name": "python",
   "nbconvert_exporter": "python",
   "pygments_lexer": "ipython3",
   "version": "3.13.5"
  }
 },
 "nbformat": 4,
 "nbformat_minor": 5
}
